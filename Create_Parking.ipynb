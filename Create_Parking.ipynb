{
 "cells": [
  {
   "cell_type": "markdown",
   "id": "6af99ff5",
   "metadata": {},
   "source": [
    "# GOParking!\n",
    "### Goditi la città, noi pensiamo al resto.\n",
    "\n",
    "Vogliamo un software che: \n",
    "\n",
    "-accetti auto **all'ingresso**\n",
    "\n",
    "    -prendendo targa\n",
    "    \n",
    "    -orario di ingresso\n",
    "    \n",
    "    -chieda il brand di auto\n",
    "    \n",
    "    -indichi un piano (tutte le panda vanno al 5° piano fino a riempimento)\n",
    "\n",
    "-**lasci uscire una macchina**\n",
    "    \n",
    "    -calcolando il totale dovuto fino ad ora compretata\n",
    "\n",
    "-**aggiorni il database**"
   ]
  },
  {
   "cell_type": "code",
   "execution_count": 1,
   "id": "4633f2c9",
   "metadata": {},
   "outputs": [],
   "source": [
    "#struttura del parcheggio\n",
    "parking = {\n",
    "    '1': {'max_capacity':20,\n",
    "          'cars_in': 7,\n",
    "          'price_per_hour': 2.5,\n",
    "          'brands':'all'},\n",
    "\n",
    "    '2': {'max_capacity':15, \n",
    "          'cars_in': 4, \n",
    "          'price_per_hour': 3.0, \n",
    "          'brands':'all'},\n",
    "\n",
    "    '3': {'max_capacity':10, \n",
    "          'cars_in': 2, \n",
    "          'price_per_hour': 4.0, \n",
    "          'brands':'all'},\n",
    "\n",
    "    '4': {'max_capacity':25, \n",
    "          'cars_in': 10, \n",
    "          'price_per_hour': 1.5, \n",
    "          'brands':'all'},\n",
    "          \n",
    "    '5': {'max_capacity':10, \n",
    "          'cars_in': 5, \n",
    "          'price_per_hour': 7.0, \n",
    "          'brands':'panda 4x4'},\n",
    "}"
   ]
  },
  {
   "cell_type": "code",
   "execution_count": 2,
   "id": "e7458bd2",
   "metadata": {},
   "outputs": [],
   "source": [
    "#modulo che ci permette di convertire degli orari scritti come stringa in orario\n",
    "from datetime import datetime"
   ]
  },
  {
   "cell_type": "code",
   "execution_count": 3,
   "id": "9d442619",
   "metadata": {},
   "outputs": [],
   "source": [
    "# dati delle macchine presenti nel parcheggio\n",
    "cars = {'CA385NN': {'ingresso':  datetime.strptime(f\"14/04/2025 10:25\", \"%d/%m/%Y %H:%M\"), 'piano': '1'},\n",
    "        'CA123NN': {'ingresso':  datetime.strptime(f\"14/04/2025 10:25\", \"%d/%m/%Y %H:%M\"), 'piano': '2'},\n",
    "        'CA456NN': {'ingresso':  datetime.strptime(f\"14/04/2025 10:25\", \"%d/%m/%Y %H:%M\"), 'piano': '3'},\n",
    "        'CA789NN': {'ingresso':  datetime.strptime(f\"14/04/2025 10:25\", \"%d/%m/%Y %H:%M\"), 'piano': '4'},\n",
    "        'CA101NN': {'ingresso':  datetime.strptime(f\"14/04/2025 10:25\", \"%d/%m/%Y %H:%M\"), 'piano': '5'},\n",
    "        'CA112NN': {'ingresso':  datetime.strptime(f\"14/04/2025 10:25\", \"%d/%m/%Y %H:%M\"), 'piano': '1'},\n",
    "        'CA123NN': {'ingresso':  datetime.strptime(f\"14/04/2025 10:25\", \"%d/%m/%Y %H:%M\"), 'piano': '2'},\n",
    "        'CA456NN': {'ingresso':  datetime.strptime(f\"14/04/2025 10:25\", \"%d/%m/%Y %H:%M\"), 'piano': '3'},\n",
    "        'CA789NN': {'ingresso':  datetime.strptime(f\"14/04/2025 10:25\", \"%d/%m/%Y %H:%M\"), 'piano': '4'},\n",
    "        'CA101NN': {'ingresso':  datetime.strptime(f\"14/04/2025 10:25\", \"%d/%m/%Y %H:%M\"), 'piano': '5'}\n",
    "        }"
   ]
  },
  {
   "cell_type": "markdown",
   "id": "c34ef29b",
   "metadata": {},
   "source": [
    "##### Creiamo una lista di piani, dal più costoso al più economico per sapere quale piano suggerire per primo alle non-panda"
   ]
  },
  {
   "cell_type": "code",
   "execution_count": 4,
   "id": "1916e974",
   "metadata": {},
   "outputs": [],
   "source": [
    "# Creiamo una lista per capire quale piano è più costoso escludendo il piano della panda\n",
    "# Questo perchè lo suggeriremo in ordine di pprezzo se non hanno una panda\n",
    "level_order = ['3', '2', '1', '4']"
   ]
  },
  {
   "cell_type": "markdown",
   "id": "65bbe84b",
   "metadata": {},
   "source": [
    "#### Occupiamoci di come fare a far capire al nostro programma se c'è disponibilità nel piano"
   ]
  },
  {
   "cell_type": "code",
   "execution_count": 5,
   "id": "f4cfc66d",
   "metadata": {},
   "outputs": [],
   "source": [
    "def check_level_availability(level): # funzione per capire posti disponibili, controlla solo un piano\n",
    "    # gli diciamo che c'è la possibilità di entrare in un piano \n",
    "    # solo se la capacità massima di quel piano meno le macchine parcheggiateci dentro danno un risultato maggiore di 0\n",
    "    return parking[level]['max_capacity'] - parking[level]['cars_in'] > 0"
   ]
  },
  {
   "cell_type": "code",
   "execution_count": 6,
   "id": "0361e2ce",
   "metadata": {},
   "outputs": [],
   "source": [
    "# creiamo una funzione per controllare la disponibilità non solo in un piano, ma se c'è almeno un posto nei vari piani\n",
    "def availability():\n",
    "    # per ogni livello del parcheggio dimmi quanti posti disponibili ci sono\n",
    "    for level in parking:\n",
    "    # se c'è dispobilità, sfruttando la funzione creata prima che controlla la disponibilità per ogni piano, restituiscimi un bool \n",
    "     if check_level_availability(level):\n",
    "        return True"
   ]
  },
  {
   "cell_type": "markdown",
   "id": "969c1246",
   "metadata": {},
   "source": [
    "##### Occupiamoci delle domande per fare in modo che non si possano dare le risposte più disparate"
   ]
  },
  {
   "cell_type": "code",
   "execution_count": 7,
   "id": "98015fb4",
   "metadata": {},
   "outputs": [],
   "source": [
    "# bisogna creare una funzione generale che per tutte le domande controlli le risposte accettate, altrimenti ripete la domanda\n",
    "def make_question(question, accepted_answer = ['y', 'n', 'q']):\n",
    "    answer = input(question)\n",
    "    # gli dobbiamo dire che se la risposta non è una di quelle accettate, che sono quelle inserite in lista\n",
    "    if not answer in accepted_answer:\n",
    "        #diciamo che la risposta è sbagliata\n",
    "        print('Risposta non accettata')\n",
    "        # allora bisogna rifare la domanda\n",
    "        answer = make_question(question, accepted_answer = ['y', 'n', 'q'])\n",
    "    return answer"
   ]
  },
  {
   "cell_type": "markdown",
   "id": "c7347cdb",
   "metadata": {},
   "source": [
    "##### Ora chiediamo prima di tutto se ha una panda, se si controlliamo la disponibilità nel piano 5, altrimenti gli suggeriamo un altro piano sfruttando la lista creata in precedenza per suggerire come prima opzione di piano il più costoso"
   ]
  },
  {
   "cell_type": "code",
   "execution_count": 8,
   "id": "17712c18",
   "metadata": {},
   "outputs": [],
   "source": [
    "# creiamo una funziona per suggerire un piano\n",
    "def suggest_level(panda_answer): \n",
    "    #se ha una panda e ci sono posti liberi al 5° piano\n",
    "    if panda_answer == 'y' and check_level_availability('5'):\n",
    "        # vai al quinto piano\n",
    "        return '5'\n",
    "    # se o non è una panda o non c'è posto al 5° piano\n",
    "    else:\n",
    "        # dobbiamo fare un ciclo for per controllare gli altri livelli, cercando di mandarli al più costoso,\n",
    "        # il ciclo for è sulla lista dei piani che abbiamo ordinato in base al prezzo\n",
    "        for l in level_order:\n",
    "            if check_level_availability(l):\n",
    "                return l\n"
   ]
  },
  {
   "cell_type": "markdown",
   "id": "8a649003",
   "metadata": {},
   "source": [
    "##### Chiediamo la targa"
   ]
  },
  {
   "cell_type": "code",
   "execution_count": 9,
   "id": "92cd6510",
   "metadata": {},
   "outputs": [],
   "source": [
    "# funzione ricorsiva fino a quando non ci dà una targa valida (4 lettere e tre numeri inserita in  .upper) o quit \n",
    "def get_plate():\n",
    "    plate = input('Digitare numero di targa')\n",
    "    # gli diciamo di controllare se nella targa le prime due posizioni della targa sono due caratteri alfabetici\n",
    "    # e dalla seconda posizione in poi (quindi dalla terza) alla penultima (che è 5 perchè si parte a contare da 0) sono numeri\n",
    "    # e le ultime due sono lettere\n",
    "    if plate[:2].isalpha() and plate[2:5].isdigit() and plate[-2:].isalpha():\n",
    "        # inseriamo il modulo per inserirla in maiuscolo per ordinarlo meglio\n",
    "        return plate.upper()\n",
    "    return get_plate()"
   ]
  },
  {
   "cell_type": "markdown",
   "id": "49a41850",
   "metadata": {},
   "source": [
    "##### Chiediamo l'orario"
   ]
  },
  {
   "cell_type": "code",
   "execution_count": 10,
   "id": "9182704b",
   "metadata": {},
   "outputs": [],
   "source": [
    "# funzione per l'orario d'ingresso\n",
    "def get_time():\n",
    "    return datetime.now()"
   ]
  },
  {
   "cell_type": "markdown",
   "id": "89450893",
   "metadata": {},
   "source": [
    "##### Dobbiamo inserire dentro 'cars' la macchina che è appena entrata per sapere ora e piano e stabilire la tariffa che dovrà pagare"
   ]
  },
  {
   "cell_type": "code",
   "execution_count": 11,
   "id": "6dbde82a",
   "metadata": {},
   "outputs": [],
   "source": [
    "# definiamo la funzione e diamogli dei parametri che devono rispettare gli stessi parametri del dizionario\n",
    "# la prima chiave è una targa che ci riporta ad un dizionario che ci fa accedere alle info per quella targa. e per questa targa abbiamo info di ingresso e piano\n",
    "def add_to_plates(plate, entry_time, level):\n",
    "    # ora assegnamo alle chiavi di cars i valori\n",
    "    cars[plate] = {'ingresso': entry_time, 'piano': level}"
   ]
  },
  {
   "cell_type": "markdown",
   "id": "85cd9d70",
   "metadata": {},
   "source": [
    "##### Dobbiamo inserire la macchina nuova che è entrata nel nostro parcheggio"
   ]
  },
  {
   "cell_type": "code",
   "execution_count": 12,
   "id": "9772f993",
   "metadata": {},
   "outputs": [],
   "source": [
    "# Dobbiamo incrementare cars_in per aggiungere la macchina nuova al piano in modo che ovviamente faccia numero e possa essere contata la macchina \n",
    "# Quello che ci interessa si trova in parking ed è il piano, che è la chiave\n",
    "def add_to_parking(level):\n",
    "    # gli stiamo dicendo di entrare in parking, andare alla variabile cars_in e fare l'operazione di conteggio\n",
    "    parking[level]['cars_in'] += 1"
   ]
  },
  {
   "cell_type": "markdown",
   "id": "83b004b6",
   "metadata": {},
   "source": [
    "### Codice che implementa tutte le funzioni fatte fino ad ora:"
   ]
  },
  {
   "cell_type": "code",
   "execution_count": null,
   "id": "c8ba3d59",
   "metadata": {},
   "outputs": [
    {
     "name": "stdout",
     "output_type": "stream",
     "text": [
      "Risposta non accettata\n",
      "Risposta non accettata\n",
      "Risposta non accettata\n",
      "Ti è stato assegnato il piano 3!\n"
     ]
    }
   ],
   "source": [
    "answer = make_question('Stai entrando?')\n",
    "# controllo numero di posti disponibili\n",
    "if answer == 'y' and availability():\n",
    "        # chiediamo che macchina abbia, in particolare se ha una panda per mandarla al piano 5 se ci sono posti disponibili\n",
    "        answer = make_question('Hai una panda?')\n",
    "        # richiamiamo la funzione che suggerisce il piano\n",
    "        level = suggest_level(answer)\n",
    "        print(f'Ti è stato assegnato il piano {level}!')\n",
    "        # inseriamo la funzione per chiedere il numero di targa\n",
    "        plate = get_plate()\n",
    "        # inseriamo la funzione che richiama l'orario\n",
    "        time = get_time()\n",
    "        # inseriamo la funzione che aggiunge la macchina a cars dopo aver chiesto tutte le info\n",
    "        # stiamo dicendo che i segnaposto, cioè i valori della funzione add_to_plate, corrispondono alle nostre \n",
    "        add_to_plates(plate = plate, entry_time = time, level = level)\n",
    "        # diciamogli che bisogna aggiungere la macchina al parcheggio\n",
    "        add_to_parking(level = level)"
   ]
  },
  {
   "cell_type": "markdown",
   "id": "d369c29a",
   "metadata": {},
   "source": [
    "##### Puliamo il codice"
   ]
  },
  {
   "cell_type": "code",
   "execution_count": null,
   "id": "dda795a7",
   "metadata": {},
   "outputs": [],
   "source": [
    "# tutta questo che abbiamo scritto nel codice si può togliere facendo così:\n",
    "# creo una funzione che all'interno racchiuda tutto quello che ho scritto sopra\n",
    "def cars_in():\n",
    "    answer = make_question('Hai una panda?')\n",
    "    # richiamiamo la funzione che suggerisce il piano\n",
    "    level = suggest_level(answer)\n",
    "    print(f'Ti è stato assegnato il piano {level}!')\n",
    "    # inseriamo la funzione per chiedere il numero di targa\n",
    "    plate = get_plate()\n",
    "    # inseriamo la funzione che richiama l'orario\n",
    "    time = get_time()\n",
    "    # inseriamo la funzione che aggiunge la macchina a cars dopo aver chiesto tutte le info\n",
    "    # stiamo dicendo che i segnaposto, cioè i valori della funzione add_to_plate, corrispondono alle nostre \n",
    "    add_to_plates(plate = plate, entry_time = time, level = level)\n",
    "    # diciamogli che bisogna aggiungere la macchina al parcheggio\n",
    "    add_to_parking(level = level)"
   ]
  },
  {
   "cell_type": "markdown",
   "id": "57c553d2",
   "metadata": {},
   "source": [
    "### CODICE PULITO:"
   ]
  },
  {
   "cell_type": "code",
   "execution_count": null,
   "id": "2095daff",
   "metadata": {},
   "outputs": [],
   "source": [
    "answer = make_question('Stai entrando?')\n",
    "if answer == 'y' and availability():\n",
    "    cars_in()\n",
    "    # aggiungiamo un 'oppure' con elif, cioè se non entra esce\n",
    "elif answer == 'n':\n",
    "    # riutilizziamo la funzione make question per la targa e inseriamo un modulo di cars come risposta accettata\n",
    "    # in questo modo mi darà la chiave di cars, che sono le targhe\n",
    "    plate = make_question('inserisci targa', accepted_answer = cars.keys())\n",
    "    # ora andiamo a prendere in considerazione l'orario d'ingresso da cars\n",
    "    entry_time = cars[plate]['ingresso']\n",
    "    # e il piano da cui viene la macchina sempre da cars\n",
    "    level = cars[plate]['piano']\n",
    "    # ora dobbiamo calcolare il prezzo. \n",
    "    # Ricordiamo che ogni piano ha la sua tariffa, quindi prima vediamo quanto costa il piano da cui viene la macchina in parking stavolta abbiamo 'price_per_hour':\n",
    "    price_per_hour = parking[level]['price_per_hour']\n",
    "    # vediamo l'ora corrente, cioè a che ora sta uscendo. get_time infatti mi dice l'ora sul momento\n",
    "    current_time = get_time()\n",
    "    # facciamo l'operazione togliendo dall'orario di uscita l'orario di entrata\n",
    "    # però questo calcolo non è esattamente corretto, noi dobbiamo dirgli che appena entra scatta un'ora e deve pagare la prima ora, poi quando parte la seconda\n",
    "    # deve pagare la seconda e così via. Quindi l'orario va calcolato in maniera più precisa\n",
    "    duration = current_time - entry_time\n",
    "    print(duration)\n",
    "    # diciamogli come calcolare le ore intere e aggiungiamogliene una che è quella da pagare appena si entra\n",
    "    ore_intere = int(duration.total_seconds()/3600) + 1\n",
    "    # ora definiamo il prezzo totale, dove moltiplichiamo le ore intere per la tariffa oraria\n",
    "    total_price = ore_intere * price_per_hour\n",
    "\n"
   ]
  },
  {
   "cell_type": "markdown",
   "id": "40a42a5d",
   "metadata": {},
   "source": [
    "### Completiamo il flusso d'uscita, creiamo una funzione car_out"
   ]
  },
  {
   "cell_type": "code",
   "execution_count": null,
   "id": "237b39de",
   "metadata": {},
   "outputs": [],
   "source": [
    "# Funzione per completare l'uscita di un'auto dal parcheggio\n",
    "\n",
    "def car_out(plate):\n",
    "    # 1. Verifica se la targa è presente\n",
    "    if plate not in cars:\n",
    "        print(\"Targa non trovata nel parcheggio.\")\n",
    "        return\n",
    "\n",
    "    # Recupera dati di ingresso e piano\n",
    "    entry_time = cars[plate]['ingresso']\n",
    "    level = cars[plate]['piano']\n",
    "    price_per_hour = parking[level]['price_per_hour']\n",
    "\n",
    "    # Calcola durata e costo\n",
    "    current_time = get_time()\n",
    "    duration = current_time - entry_time\n",
    "    ore_intere = int(duration.total_seconds() / 3600) + 1\n",
    "    total_price = ore_intere * price_per_hour\n",
    "\n",
    "    # Stampa ricevuta di pagamento\n",
    "    print(f\"Auto con targa {plate} ha sostato per {ore_intere} ore.\")\n",
    "    print(f\"Totale da pagare: {total_price:.2f} euro.\")\n",
    "\n",
    "    # Aggiorna il database: decrementa cars_in e rimuovi la targa\n",
    "    parking[level]['cars_in'] -= 1\n",
    "    del cars[plate]"
   ]
  }
 ],
 "metadata": {
  "kernelspec": {
   "display_name": "Python 3",
   "language": "python",
   "name": "python3"
  },
  "language_info": {
   "codemirror_mode": {
    "name": "ipython",
    "version": 3
   },
   "file_extension": ".py",
   "mimetype": "text/x-python",
   "name": "python",
   "nbconvert_exporter": "python",
   "pygments_lexer": "ipython3",
   "version": "3.10.0"
  }
 },
 "nbformat": 4,
 "nbformat_minor": 5
}
